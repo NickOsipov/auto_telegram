{
 "cells": [
  {
   "cell_type": "code",
   "execution_count": 1,
   "metadata": {},
   "outputs": [],
   "source": [
    "from bs4 import BeautifulSoup\n",
    "import requests\n",
    "import fake_useragent"
   ]
  },
  {
   "cell_type": "code",
   "execution_count": 2,
   "metadata": {},
   "outputs": [],
   "source": [
    "res = requests.get(\"https://habr.com/ru/hubs/artificial_intelligence/articles/\")"
   ]
  },
  {
   "cell_type": "code",
   "execution_count": 4,
   "metadata": {},
   "outputs": [],
   "source": [
    "soup = BeautifulSoup(res.content)"
   ]
  },
  {
   "cell_type": "code",
   "execution_count": 36,
   "metadata": {},
   "outputs": [
    {
     "data": {
      "text/plain": [
       "<article class=\"tm-articles-list__item\" data-navigatable=\"\" id=\"784724\" tabindex=\"0\"><div class=\"tm-article-snippet tm-article-snippet\"> <div class=\"tm-article-snippet__meta-container\"><div class=\"tm-article-snippet__meta\"><span class=\"tm-user-info tm-article-snippet__author\"><a class=\"tm-user-info__userpic\" href=\"/ru/users/Kekovsky/\" title=\"Kekovsky\"><div class=\"tm-entity-image\"><img alt=\"\" class=\"tm-entity-image__pic\" height=\"32\" src=\"//habrastorage.org/r/w64/getpro/habr/avatars/f50/bcd/519/f50bcd5194fca08a17a09f0fff8bb4f6.jpg\" width=\"32\"/></div></a> <span class=\"tm-user-info__user tm-user-info__user_appearance-default\"><a class=\"tm-user-info__username\" href=\"/ru/users/Kekovsky/\">\n",
       "      Kekovsky\n",
       "      <!-- --></a> <a class=\"tm-article-datetime-published tm-article-datetime-published_link\" href=\"/ru/articles/784724/\"><time datetime=\"2024-01-05T16:04:36.000Z\" title=\"2024-01-05, 19:04\">5  янв   в 19:04</time></a></span></span></div> <!-- --></div> <h2 class=\"tm-title tm-title_h2\"><a class=\"tm-title__link\" data-article-link=\"true\" data-test-id=\"article-snippet-title-link\" href=\"/ru/articles/784724/\"><span>Пишем веб-приложение вместе с ChatGPT и Stable Diffusion</span></a></h2> <div class=\"tm-article-snippet__stats\"><div class=\"tm-article-complexity tm-article-complexity_complexity-low\"><span class=\"tm-svg-icon__wrapper tm-article-complexity__icon\"><svg class=\"tm-svg-img tm-svg-icon\" height=\"24\" width=\"24\"><title>Уровень сложности</title> <use xlink:href=\"/img/megazord-v28.faec9762..svg#complexity-low\"></use></svg></span> <span class=\"tm-article-complexity__label\">\n",
       "    Простой\n",
       "  </span></div> <div class=\"tm-article-reading-time\"><span class=\"tm-svg-icon__wrapper tm-article-reading-time__icon\"><svg class=\"tm-svg-img tm-svg-icon\" height=\"24\" width=\"24\"><title>Время на прочтение</title> <use xlink:href=\"/img/megazord-v28.faec9762..svg#clock\"></use></svg></span> <span class=\"tm-article-reading-time__label\">\n",
       "    5 мин\n",
       "  </span></div> <span class=\"tm-icon-counter tm-data-icons__item\"><svg class=\"tm-svg-img tm-icon-counter__icon\" height=\"24\" width=\"24\"><title>Количество просмотров</title> <use xlink:href=\"/img/megazord-v28.faec9762..svg#counter-views\"></use></svg> <span class=\"tm-icon-counter__value\">8.2K</span></span></div> <!-- --> <div class=\"tm-article-labels\"><div class=\"tm-article-labels__container\"><div class=\"tm-publication-label tm-publication-label_variant-tutorial\"><span>\n",
       "    Туториал\n",
       "  </span></div> </div></div> <!-- --> <!-- --></div> <div class=\"tm-data-icons\"><!-- --> <div class=\"tm-votes-meter tm-data-icons__item\"><svg class=\"tm-svg-img tm-votes-meter__icon tm-votes-meter__icon tm-votes-meter__icon_appearance-article\" height=\"24\" width=\"24\"><title>Всего голосов 12: ↑9 и ↓3</title> <use xlink:href=\"/img/megazord-v28.faec9762..svg#counter-rating\"></use></svg> <span class=\"tm-votes-meter__value tm-votes-meter__value tm-votes-meter__value_positive tm-votes-meter__value_appearance-article tm-votes-meter__value_rating\" title=\"Всего голосов 12: ↑9 и ↓3\">+6</span></div> <!-- --> <button class=\"bookmarks-button tm-data-icons__item\" title=\"Добавить в закладки\" type=\"button\"><span class=\"tm-svg-icon__wrapper bookmarks-button__icon\"><svg class=\"tm-svg-img tm-svg-icon\" height=\"24\" width=\"24\"><title>Добавить в закладки</title> <use xlink:href=\"/img/megazord-v28.faec9762..svg#counter-favorite\"></use></svg></span> <span class=\"bookmarks-button__counter\" title=\"Количество пользователей, добавивших публикацию в закладки\">\n",
       "    69\n",
       "  </span></button> <div class=\"tm-sharing tm-data-icons__item\" title=\"Поделиться\"><button class=\"tm-sharing__button\" type=\"button\"><svg class=\"tm-sharing__icon\" viewbox=\"0 0 24 24\" xmlns=\"http://www.w3.org/2000/svg\"><path d=\"M13.8 13.8V18l7.2-6.6L13.8 5v3.9C5 8.9 3 18.6 3 18.6c2.5-4.4 6-4.8 10.8-4.8z\" fill=\"currentColor\"></path></svg></button> <div class=\"v-portal\" style=\"display:none;\"></div></div> <div class=\"tm-article-comments-counter-link tm-data-icons__item\" title=\"Читать комментарии\"><a class=\"tm-article-comments-counter-link__link\" href=\"/ru/articles/784724/comments/\"><svg class=\"tm-svg-img tm-article-comments-counter-link__icon\" height=\"24\" width=\"24\"><title>Комментарии</title> <use xlink:href=\"/img/megazord-v28.faec9762..svg#counter-comments\"></use></svg> <span class=\"tm-article-comments-counter-link__value\">\n",
       "      18\n",
       "    </span></a> <!-- --></div> <div class=\"v-portal\" style=\"display:none;\"></div></div></article>"
      ]
     },
     "execution_count": 36,
     "metadata": {},
     "output_type": "execute_result"
    }
   ],
   "source": [
    "soup.find(\"article\", {\"class\": \"tm-articles-list__item\"})"
   ]
  },
  {
   "cell_type": "code",
   "execution_count": 38,
   "metadata": {},
   "outputs": [
    {
     "data": {
      "text/plain": [
       "'Пишем веб-приложение вместе с ChatGPT и Stable Diffusion'"
      ]
     },
     "execution_count": 38,
     "metadata": {},
     "output_type": "execute_result"
    }
   ],
   "source": [
    "soup.find(\"article\", {\"class\": \"tm-articles-list__item\"}).find(\"h2\").text"
   ]
  },
  {
   "cell_type": "code",
   "execution_count": null,
   "metadata": {},
   "outputs": [],
   "source": [
    "BeautifulSoup(\n",
    "            requests.get(\n",
    "                url=article_url,\n",
    "                headers=self._get_headers(),\n",
    "            ).content,\n",
    "            features='lxml'\n",
    "        )"
   ]
  },
  {
   "cell_type": "code",
   "execution_count": 64,
   "metadata": {},
   "outputs": [],
   "source": [
    "artical_soup = soup.find(\"article\", {\"class\": \"tm-articles-list__item\"})"
   ]
  },
  {
   "cell_type": "code",
   "execution_count": 67,
   "metadata": {},
   "outputs": [
    {
     "ename": "AttributeError",
     "evalue": "'NoneType' object has no attribute 'text'",
     "output_type": "error",
     "traceback": [
      "\u001b[0;31m---------------------------------------------------------------------------\u001b[0m",
      "\u001b[0;31mAttributeError\u001b[0m                            Traceback (most recent call last)",
      "Cell \u001b[0;32mIn[67], line 1\u001b[0m\n\u001b[0;32m----> 1\u001b[0m \u001b[43martical_soup\u001b[49m\u001b[38;5;241;43m.\u001b[39;49m\u001b[43mfind\u001b[49m\u001b[43m(\u001b[49m\u001b[38;5;124;43m'\u001b[39;49m\u001b[38;5;124;43mdiv\u001b[39;49m\u001b[38;5;124;43m'\u001b[39;49m\u001b[43m,\u001b[49m\u001b[43m \u001b[49m\u001b[43mclass_\u001b[49m\u001b[38;5;241;43m=\u001b[39;49m\u001b[38;5;124;43m'\u001b[39;49m\u001b[38;5;124;43marticle-formatted-body\u001b[39;49m\u001b[38;5;124;43m'\u001b[39;49m\u001b[43m)\u001b[49m\u001b[38;5;241;43m.\u001b[39;49m\u001b[43mtext\u001b[49m\n",
      "\u001b[0;31mAttributeError\u001b[0m: 'NoneType' object has no attribute 'text'"
     ]
    }
   ],
   "source": [
    "artical_soup.find('div', class_='article-formatted-body')"
   ]
  },
  {
   "cell_type": "code",
   "execution_count": null,
   "metadata": {},
   "outputs": [],
   "source": [
    "<div class=\"tm-article-snippet tm-article-snippet\"> <div class=\"tm-article-snippet__meta-container\"><div class=\"tm-article-snippet__meta\"><span class=\"tm-user-info tm-article-snippet__author\"><a href=\"/ru/users/Kekovsky/\" class=\"tm-user-info__userpic\" title=\"Kekovsky\"><div class=\"tm-entity-image\"><img alt=\"\" height=\"24\" src=\"//habrastorage.org/r/w48/getpro/habr/avatars/f50/bcd/519/f50bcd5194fca08a17a09f0fff8bb4f6.jpg\" width=\"24\" class=\"tm-entity-image__pic\"></div></a> <span class=\"tm-user-info__user tm-user-info__user_appearance-default\"><a href=\"/ru/users/Kekovsky/\" class=\"tm-user-info__username\">\n",
    "      Kekovsky\n",
    "      <!----></a> <a href=\"/ru/articles/784724/\" class=\"tm-article-datetime-published tm-article-datetime-published_link\"><time datetime=\"2024-01-05T16:04:36.000Z\" title=\"2024-01-05, 19:04\">5  янв   в 19:04</time></a></span></span></div> <!----></div> <h2 class=\"tm-title tm-title_h2\"><a href=\"/ru/articles/784724/\" class=\"tm-title__link\" data-test-id=\"article-snippet-title-link\" data-article-link=\"true\"><span>Пишем веб-приложение вместе с ChatGPT и Stable Diffusion</span></a></h2> <div class=\"tm-article-snippet__stats\"><div class=\"tm-article-complexity tm-article-complexity_complexity-low\"><span class=\"tm-svg-icon__wrapper tm-article-complexity__icon\"><svg height=\"24\" width=\"24\" class=\"tm-svg-img tm-svg-icon\"><title>Уровень сложности</title> <use xlink:href=\"/img/megazord-v28.faec9762..svg#complexity-low\"></use></svg></span> <span class=\"tm-article-complexity__label\">\n",
    "    Простой\n",
    "  </span></div> <div class=\"tm-article-reading-time\"><span class=\"tm-svg-icon__wrapper tm-article-reading-time__icon\"><svg height=\"24\" width=\"24\" class=\"tm-svg-img tm-svg-icon\"><title>Время на прочтение</title> <use xlink:href=\"/img/megazord-v28.faec9762..svg#clock\"></use></svg></span> <span class=\"tm-article-reading-time__label\">\n",
    "    5 мин\n",
    "  </span></div> <span class=\"tm-icon-counter tm-data-icons__item\"><svg height=\"24\" width=\"24\" class=\"tm-svg-img tm-icon-counter__icon\"><title>Количество просмотров</title> <use xlink:href=\"/img/megazord-v28.faec9762..svg#counter-views\"></use></svg> <span class=\"tm-icon-counter__value\">8.2K</span></span></div> <div class=\"tm-publication-hubs__container\"><div class=\"tm-publication-hubs\"><span class=\"tm-publication-hub__link-container\"><a href=\"/ru/hubs/webdev/\" class=\"tm-publication-hub__link\"><span>Веб-разработка</span> <span title=\"Профильный хаб\" class=\"tm-article-snippet__profiled-hub\">*</span></a></span><span class=\"tm-publication-hub__link-container\"><a href=\"/ru/hubs/angular/\" class=\"tm-publication-hub__link\"><span>Angular</span> <span title=\"Профильный хаб\" class=\"tm-article-snippet__profiled-hub\">*</span></a></span><span class=\"tm-publication-hub__link-container\"><a href=\"/ru/hubs/artificial_intelligence/\" class=\"router-link-active tm-publication-hub__link\"><span>Искусственный интеллект</span> <!----></a></span></div></div> <div class=\"tm-article-labels\"><div class=\"tm-article-labels__container\"><div class=\"tm-publication-label tm-publication-label_variant-tutorial\"><span>\n",
    "    Туториал\n",
    "  </span></div> </div></div> <!----> <div class=\"tm-article-body tm-article-snippet__lead\"><div class=\"tm-article-snippet__cover tm-article-snippet__cover_cover\"><img src=\"https://habrastorage.org/getpro/habr/upload_files/684/06a/97b/68406a97bf336b11d7dbb11b354eb88d.jpg\" class=\"tm-article-snippet__lead-image\" style=\"object-position: 0% 0%;\"></div> <div><div><div class=\"article-formatted-body article-formatted-body article-formatted-body_version-2\"><p>Всем привет! Ни для кого не секрет, что ChatGPT 4, получившая развитие в прошлом году, уже активно внедряется в обиход разработчиков. Во время новогодних каникул я решил испытать новинку, и попробовать разработать совместно с ботом небольшое веб-приложение на базе Angular 17. Что из этого вышло, читайте далее.</p><p></p></div></div> <div class=\"v-portal\" style=\"display: none;\"></div> <div class=\"v-portal\" style=\"display: none;\"></div></div> <a href=\"/ru/articles/784724/\" class=\"tm-article-snippet__readmore\"><span>Читать далее</span></a></div></div>"
   ]
  },
  {
   "cell_type": "code",
   "execution_count": 70,
   "metadata": {},
   "outputs": [],
   "source": [
    "from bs4 import BeautifulSoup\n",
    "\n",
    "# Ваш HTML-код\n",
    "html_doc = \"\"\"<article id=\"784724\" data-navigatable=\"\" tabindex=\"0\" class=\"tm-articles-list__item\"><div class=\"tm-article-snippet tm-article-snippet\"> <div class=\"tm-article-snippet__meta-container\"><div class=\"tm-article-snippet__meta\"><span class=\"tm-user-info tm-article-snippet__author\"><a href=\"/ru/users/Kekovsky/\" class=\"tm-user-info__userpic\" title=\"Kekovsky\"><div class=\"tm-entity-image\"><img alt=\"\" height=\"24\" src=\"//habrastorage.org/r/w48/getpro/habr/avatars/f50/bcd/519/f50bcd5194fca08a17a09f0fff8bb4f6.jpg\" width=\"24\" class=\"tm-entity-image__pic\"></div></a> <span class=\"tm-user-info__user tm-user-info__user_appearance-default\"><a href=\"/ru/users/Kekovsky/\" class=\"tm-user-info__username\">\n",
    "      Kekovsky\n",
    "      <!----></a> <a href=\"/ru/articles/784724/\" class=\"tm-article-datetime-published tm-article-datetime-published_link\"><time datetime=\"2024-01-05T16:04:36.000Z\" title=\"2024-01-05, 19:04\">5  янв   в 19:04</time></a></span></span></div> <!----></div> <h2 class=\"tm-title tm-title_h2\"><a href=\"/ru/articles/784724/\" class=\"tm-title__link\" data-test-id=\"article-snippet-title-link\" data-article-link=\"true\"><span>Пишем веб-приложение вместе с ChatGPT и Stable Diffusion</span></a></h2> <div class=\"tm-article-snippet__stats\"><div class=\"tm-article-complexity tm-article-complexity_complexity-low\"><span class=\"tm-svg-icon__wrapper tm-article-complexity__icon\"><svg height=\"24\" width=\"24\" class=\"tm-svg-img tm-svg-icon\"><title>Уровень сложности</title> <use xlink:href=\"/img/megazord-v28.faec9762..svg#complexity-low\"></use></svg></span> <span class=\"tm-article-complexity__label\">\n",
    "    Простой\n",
    "  </span></div> <div class=\"tm-article-reading-time\"><span class=\"tm-svg-icon__wrapper tm-article-reading-time__icon\"><svg height=\"24\" width=\"24\" class=\"tm-svg-img tm-svg-icon\"><title>Время на прочтение</title> <use xlink:href=\"/img/megazord-v28.faec9762..svg#clock\"></use></svg></span> <span class=\"tm-article-reading-time__label\">\n",
    "    5 мин\n",
    "  </span></div> <span class=\"tm-icon-counter tm-data-icons__item\"><svg height=\"24\" width=\"24\" class=\"tm-svg-img tm-icon-counter__icon\"><title>Количество просмотров</title> <use xlink:href=\"/img/megazord-v28.faec9762..svg#counter-views\"></use></svg> <span class=\"tm-icon-counter__value\">8.2K</span></span></div> <div class=\"tm-publication-hubs__container\"><div class=\"tm-publication-hubs\"><span class=\"tm-publication-hub__link-container\"><a href=\"/ru/hubs/webdev/\" class=\"tm-publication-hub__link\"><span>Веб-разработка</span> <span title=\"Профильный хаб\" class=\"tm-article-snippet__profiled-hub\">*</span></a></span><span class=\"tm-publication-hub__link-container\"><a href=\"/ru/hubs/angular/\" class=\"tm-publication-hub__link\"><span>Angular</span> <span title=\"Профильный хаб\" class=\"tm-article-snippet__profiled-hub\">*</span></a></span><span class=\"tm-publication-hub__link-container\"><a href=\"/ru/hubs/artificial_intelligence/\" class=\"router-link-active tm-publication-hub__link\"><span>Искусственный интеллект</span> <!----></a></span></div></div> <div class=\"tm-article-labels\"><div class=\"tm-article-labels__container\"><div class=\"tm-publication-label tm-publication-label_variant-tutorial\"><span>\n",
    "    Туториал\n",
    "  </span></div> </div></div> <!----> <div class=\"tm-article-body tm-article-snippet__lead\"><div class=\"tm-article-snippet__cover tm-article-snippet__cover_cover\"><img src=\"https://habrastorage.org/getpro/habr/upload_files/684/06a/97b/68406a97bf336b11d7dbb11b354eb88d.jpg\" class=\"tm-article-snippet__lead-image\" style=\"object-position: 0% 0%;\"></div> <div><div><div class=\"article-formatted-body article-formatted-body article-formatted-body_version-2\"><p>Всем привет! Ни для кого не секрет, что ChatGPT 4, получившая развитие в прошлом году, уже активно внедряется в обиход разработчиков. Во время новогодних каникул я решил испытать новинку, и попробовать разработать совместно с ботом небольшое веб-приложение на базе Angular 17. Что из этого вышло, читайте далее.</p><p></p></div></div> <div class=\"v-portal\" style=\"display: none;\"></div> <div class=\"v-portal\" style=\"display: none;\"></div></div> <a href=\"/ru/articles/784724/\" class=\"tm-article-snippet__readmore\"><span>Читать далее</span></a></div></div> <div class=\"tm-data-icons\"><!----> <div class=\"tm-votes-meter tm-data-icons__item\"><svg height=\"24\" width=\"24\" class=\"tm-svg-img tm-votes-meter__icon tm-votes-meter__icon tm-votes-meter__icon_appearance-article\"><title>Всего голосов 12: ↑9 и ↓3</title> <use xlink:href=\"/img/megazord-v28.faec9762..svg#counter-rating\"></use></svg> <span title=\"Всего голосов 12: ↑9 и ↓3\" class=\"tm-votes-meter__value tm-votes-meter__value tm-votes-meter__value_positive tm-votes-meter__value_appearance-article tm-votes-meter__value_rating\">+6</span></div> <!----> <button title=\"Добавить в закладки\" type=\"button\" class=\"bookmarks-button tm-data-icons__item\"><span class=\"tm-svg-icon__wrapper bookmarks-button__icon\"><svg height=\"24\" width=\"24\" class=\"tm-svg-img tm-svg-icon\"><title>Добавить в закладки</title> <use xlink:href=\"/img/megazord-v28.faec9762..svg#counter-favorite\"></use></svg></span> <span title=\"Количество пользователей, добавивших публикацию в закладки\" class=\"bookmarks-button__counter\">\n",
    "    69\n",
    "  </span></button> <div class=\"tm-sharing tm-data-icons__item\" title=\"Поделиться\"><button type=\"button\" class=\"tm-sharing__button\"><svg viewBox=\"0 0 24 24\" xmlns=\"http://www.w3.org/2000/svg\" class=\"tm-sharing__icon\"><path fill=\"currentColor\" d=\"M13.8 13.8V18l7.2-6.6L13.8 5v3.9C5 8.9 3 18.6 3 18.6c2.5-4.4 6-4.8 10.8-4.8z\"></path></svg></button> <div class=\"v-portal\" style=\"display: none;\"></div></div> <div class=\"tm-article-comments-counter-link tm-data-icons__item\" title=\"Читать комментарии\"><a href=\"/ru/articles/784724/comments/\" class=\"tm-article-comments-counter-link__link\"><svg height=\"24\" width=\"24\" class=\"tm-svg-img tm-article-comments-counter-link__icon\"><title>Комментарии</title> <use xlink:href=\"/img/megazord-v28.faec9762..svg#counter-comments\"></use></svg> <span class=\"tm-article-comments-counter-link__value\">\n",
    "      18\n",
    "    </span></a> <!----></div>  <div class=\"v-portal\" style=\"display: none;\"></div></div></article>\"\"\"\n",
    "\n",
    "# Создаем объект BeautifulSoup\n",
    "soup = BeautifulSoup(html_doc, 'html.parser')\n",
    "\n",
    "# Находим элемент с нужным текстом\n",
    "text_container = soup.find('div', class_='article-formatted-body')\n",
    "\n",
    "# # Извлекаем текст\n",
    "# text = text_container.get_text().strip() if text_container else \"Текст не найден\"\n",
    "\n",
    "# print(text)\n"
   ]
  },
  {
   "cell_type": "code",
   "execution_count": 71,
   "metadata": {},
   "outputs": [
    {
     "data": {
      "text/plain": [
       "<div class=\"article-formatted-body article-formatted-body article-formatted-body_version-2\"><p>Всем привет! Ни для кого не секрет, что ChatGPT 4, получившая развитие в прошлом году, уже активно внедряется в обиход разработчиков. Во время новогодних каникул я решил испытать новинку, и попробовать разработать совместно с ботом небольшое веб-приложение на базе Angular 17. Что из этого вышло, читайте далее.</p><p></p></div>"
      ]
     },
     "execution_count": 71,
     "metadata": {},
     "output_type": "execute_result"
    }
   ],
   "source": [
    "text_container"
   ]
  },
  {
   "cell_type": "code",
   "execution_count": 72,
   "metadata": {},
   "outputs": [
    {
     "name": "stdout",
     "output_type": "stream",
     "text": [
      "https://habrastorage.org/getpro/habr/upload_files/684/06a/97b/68406a97bf336b11d7dbb11b354eb88d.jpg\n"
     ]
    }
   ],
   "source": [
    "image_element = soup.find('div', class_='tm-article-snippet__cover').find('img')\n",
    "\n",
    "# Извлекаем ссылку\n",
    "image_url = image_element['src'] if image_element else \"Ссылка на изображение не найдена\"\n",
    "\n",
    "print(image_url)"
   ]
  },
  {
   "cell_type": "code",
   "execution_count": 74,
   "metadata": {},
   "outputs": [
    {
     "data": {
      "text/plain": [
       "'https://habrastorage.org/getpro/habr/upload_files/684/06a/97b/68406a97bf336b11d7dbb11b354eb88d.jpg'"
      ]
     },
     "execution_count": 74,
     "metadata": {},
     "output_type": "execute_result"
    }
   ],
   "source": [
    "soup.find('div', class_='tm-article-snippet__cover').find('img').attrs['src']"
   ]
  },
  {
   "cell_type": "code",
   "execution_count": 78,
   "metadata": {},
   "outputs": [
    {
     "name": "stdout",
     "output_type": "stream",
     "text": [
      "/ru/articles/784724/\n"
     ]
    }
   ],
   "source": [
    "link_element = soup.find('a', attrs={\"class\": \"tm-title__link\", \"data-article-link\": \"true\"})\n",
    "\n",
    "# Извлекаем текст ссылки\n",
    "link_text = link_element['href'] if link_element else \"Ссылка не найдена\"\n",
    "\n",
    "print(link_text)"
   ]
  },
  {
   "cell_type": "code",
   "execution_count": 76,
   "metadata": {},
   "outputs": [
    {
     "data": {
      "text/plain": [
       "<a class=\"tm-title__link\" data-article-link=\"true\" data-test-id=\"article-snippet-title-link\" href=\"/ru/articles/784724/\"><span>Пишем веб-приложение вместе с ChatGPT и Stable Diffusion</span></a>"
      ]
     },
     "execution_count": 76,
     "metadata": {},
     "output_type": "execute_result"
    }
   ],
   "source": [
    "soup.find('a', attrs={\"data-article-link\": \"true\"})"
   ]
  },
  {
   "cell_type": "code",
   "execution_count": 83,
   "metadata": {},
   "outputs": [
    {
     "data": {
      "text/plain": [
       "'Пишем веб-приложение вместе с ChatGPT и Stable Diffusion'"
      ]
     },
     "execution_count": 83,
     "metadata": {},
     "output_type": "execute_result"
    }
   ],
   "source": [
    "soup.find('h2', attrs={\"class\": 'tm-title'}).get_text().strip()"
   ]
  },
  {
   "cell_type": "code",
   "execution_count": 92,
   "metadata": {},
   "outputs": [],
   "source": [
    "article_url = 'https://habr.com' + \"/ru/articles/784724/\"\n",
    "\n",
    "soup = BeautifulSoup(requests.get(url=article_url).content, parser=\"html.parser\")"
   ]
  },
  {
   "cell_type": "code",
   "execution_count": 95,
   "metadata": {},
   "outputs": [
    {
     "data": {
      "text/plain": [
       "'Пример готового приложенияВсем привет! Ни для кого не секрет, что ChatGPT, получившая развитие в прошлом году, уже активно внедряется в обиход разработчиков. Во время новогодних каникул я решил испытать новинку, и попробовать разработать совместно с ботом небольшое веб-приложение на базе Angular 17, учитывая, что сам фреймворк я до этого практически не изучал. Что из этого вышло, читайте далее.1. Киллер-фича ChatGPT (GPT-4)На написание данной статьи меня вдохновил следующий момент: возможность ChatGPT4 выдавать дизайн по небольшому скетчу. Изначально я ещё не знал, как будет выглядеть моё приложение, но нацарапал небольшой набросок желаемого на бумаге:Мой \"шарж\" на веб-страничку. Время начертания: 30 секунд.Далее я скормил его чат-боту, после чего он превратил эту наскальную живопись в следующую страницу:В общем-то, близко к оригинальной идееЗабавно, что надписи были заменены на иконки, тем не менее, бот прекрасно уловил суть и сам предложил стек: использовать React + Tailwind CSS. Однако, я транслировал данный код в TypeScript для Angular, т.к. собирался писать на нём. Начало было положено.2. Идея для приложенияНа днях мне на глаза попался бумажный каталог фотоаппаратуры. Подобные каталоги начали выпускаться сотни лет назад, в момент появления бумажной почты. И закончили своё существование примерно лет 10-15 назад, так как перекочевали в интернет-пространство (хотя, возможно, некоторые ещё выпускаются). Вот пример подобного каталога, который нашёлся у меня, и датировался 2014 годом:В моём же случае, я решил сделать каталог товаров воображаемого предприятия, торгующего различной сантехнической и водопроводной оснасткой.3. Генерируем тестовые данныеДля генерации тестовых данных ранее мне приходилось искать различные картинки и фото при помощи поисковых систем. Теперь же я попросил ChatGPT предоставить мне, для начала, 32 различных предмета, связанных с водопроводной тематикой. Далее я использовал Stable Diffusion (UI Automatic1111) для генерации папки с изображениями для данных предметов. Можно также использовать встроенный генератор (DALL-E) в ChatGPT, но этот вариант показался мне забавнее. Для генерации использовано расширение \"Dynamic Prompts\". Оно позволяет выдать набор картинок по заданному списку. Результат:Воображаемые товары для воображаемого магазинаЗабавно, что сантехнический трос (Plumber\\'s Snake) нейросеть отобразила в виде стальной змеи. Да и остальные предметы, скорее, напоминают гравицапу из фильма \"Кин-дза-дза\". Однако, примеры выглядят правдоподобно, красочно, поэтому я решил использовать их в дизайне.4. Архитектура приложенияАрхитектура задуманного мною приложения проста до безобразия, поэтому я схематически в вольной форме изобразил её на листе бумаги. У нас будет несколько страниц с переходами. Я не архитектор, кость креативнаяПриложение урезано - не имеет системы регистрации/авторизации, только лишь сам каталог, корзину и форму для отправки заказа. Сделано это ввиду того, что целью является не конкретное решение, а демонстрация процесса разработки такого приложения.Как конечный продукт работы нашей программы мы должны получить накладную: кому из покупателей, сколько и чего требуется отгрузить из предлагаемых товаров. 5. Создаём страницы приложения и моделиВ качестве дизайнера было решено положиться целиком и полностью на ChatGPT. Делается это подобным запросом в чат: Покажи мне фрагмент кода, чтобы создать сетку с товарами из магазина. На HTML и CSS.После чего собираем полученные кусочки. Я проделал данную процедуру для всех требуемых страниц. Либо можно использовать скетчи, как в пункте 1 статьи, если хочется порисовать. Далее я запросил два data transfer object: для предмета из каталога и для заказа. Сеть выдала подходящие шаблоны, которые остаётся только скопировать и вставить:Пример модели Dto, которую может предложить нам ChatGPT6. Дизайн и презентацияОбычно при веб-дизайне сначала верстаются определённые отображения, затем на их основе пишется код. В нашем случае, мы тоже создадим файл с дизайном в Figma. Однако, мы сделаем наоборот: предложенный дизайн преобразуем в кадры. Делается это с помощью плагина html.to.design. Плагин захватывает снапшоты веб-страницы из памяти отладчика, после чего сам расставляет элементы. Таким образом, готовый дизайн нашего будущего приложения выглядит примерно так:Пример дизайна на основе ранее представленной архитектуры приложенияЭто первоначальный вариант дизайна. В ходе разработки некоторые элементы были расширены или переработаны. В итоге мы получаем .fig файл проекта.7. Создаём тестовый каталог товаровВ данном случае нам, опять же, ассистирует ChatGPT. Я предложил каждому товару присвоить случайную цену от 1 до 100. После чего получил Excel CSV файл с товарами. Для тестов я преобразовал его в json-объект, чтобы имитировать ответ, поступивший с сервера в результате запроса GET /items:Подготовка набора данных бизнес-логики (каталог с товарами), из Excel в JSONДелается это на основании модели dto, предоставленного ботом ранее.8. Пишем приложение AngularКак известно, в последних версиях Angular (16, 17) модули были преобразованы в отдельные компоненты. А ChatGPT рекомендует код для старого формата. Поэтому в данном случае возникли некоторые затруднения, однако, решились они подгугливанием некоторых моментов в документации Angular. В целом, данный этап занял у меня больше всего времени, однако, значительно меньше по сравнению с работой в обычном поисковике. Вот пример того, как это происходило. Начал я с создания проекта, генерации шаблонов компонентов и сервисов. Это можно сделать и без ChatGPT:Создаём проект, компоненты и сервисы AngularПосле чего перешёл, непосредственно, к реализации сервисов и логики приложения:Окей, робот, покажи мне код для поиска предмета в массиве по его IDВ целом, когда я закончил разработку, в архиве чата остались следующие запросы от меня:Запросы, которые я делал в ходе разработкиКак можно видеть, я уточнял некоторые моменты касательно отображения элементов. А также запрашивал шаблоны или заготовки для компонентов, которые мне нужны.Я могу сравнить работу ChatGPT, скорее, с ассистентом - неким \"Доктором Ватсоном\". Он не знает контекст, однако, обладает эрудицией, и способен если не решить мою проблему сразу, то натолкнуть на мысль о том, как можно это сделать.Запрос: создай табличку \"корзина пуста\". Ниже рендер этой самой таблички.Также мне был предоставлен шаблон для накладной клиента, выполненный на обычных <td><tr>, тем не менее, имеющий опрятный вид благодаря дизайну от GPT.Форма для осмотра заказа9. Просим приложение Express для проверки сервисовДля того, чтобы проверить своё приложение, я сделал запрос кода Node JS. Выглядел он так: \"Create a simple Node JS Express app that handles any upcoming POST requests and logs their body to the console\"После чего мне был предоставлен готовый проект. Я запустил сервер (предварительно попросив ChatGPT добавить туда поддержку CORS), после чего мои заказы стали отображаться в консоли сервера:Описание заказа, которое приходит от клиентского приложенияТаким образом, обработав этот запрос на стороне Back-End мы можем наладить поставки товаров. На основе модели от ChatGPT нам приходит массив с товарами, их количеством, и данные клиента (конечно, imageUrl включать в этот запрос не нужно, но я не стал делать отдельную модель для заказанных предметов ради экономии времени).10. ВыводыПриложение, которое получилось сверстать с помощью ChatGPT 4, хоть и не идеально в плане дизайна, однако прекрасно справляется с возложенными на него задачами. В дополнение я русифицировал приложение, с этим не возникло никаких проблем. Я могу заключить, что использование бота при вёрстке действительно сокращает время написания кода, позволяет избавить процесс от мест, когда приходится сидеть 3-4 часа в поисках одной какой-то функции из неизвестного ранее фреймворка. Исходный код получившегося приложения можете посмотреть у меня на github:Ссылка на репозиторий: https://github.com/ritsudo/gpt-generated-shopПисал Kekovsky (ritsudo), 4 января 2024 года специально для habr.com'"
      ]
     },
     "execution_count": 95,
     "metadata": {},
     "output_type": "execute_result"
    }
   ],
   "source": [
    "soup.find('div', class_='article-formatted-body').get_text().strip()"
   ]
  },
  {
   "cell_type": "code",
   "execution_count": 99,
   "metadata": {},
   "outputs": [
    {
     "data": {
      "text/plain": [
       "'Пишем веб-приложение вместе с ChatGPT и Stable Diffusion / Хабр'"
      ]
     },
     "execution_count": 99,
     "metadata": {},
     "output_type": "execute_result"
    }
   ],
   "source": [
    "soup.find(\"title\").text"
   ]
  },
  {
   "cell_type": "code",
   "execution_count": 111,
   "metadata": {},
   "outputs": [
    {
     "data": {
      "text/plain": [
       "'https://habrastorage.org/getpro/habr/upload_files/684/06a/97b/68406a97bf336b11d7dbb11b354eb88d.jpg'"
      ]
     },
     "execution_count": 111,
     "metadata": {},
     "output_type": "execute_result"
    }
   ],
   "source": [
    "soup.find(\"figure\", {\"class\": \"full-width\"}).find(\"img\").attrs[\"data-src\"]"
   ]
  },
  {
   "cell_type": "code",
   "execution_count": 118,
   "metadata": {},
   "outputs": [],
   "source": [
    "from datetime import datetime as dt, date\n",
    "\n",
    "\n",
    "d = dt.strptime(soup.find(\"span\", {\"class\" : \"tm-article-datetime-published\"}).find(\"time\").attrs[\"datetime\"], \"%Y-%m-%dT%H:%M:%S.%fZ\")\n",
    "dd = d.date()"
   ]
  },
  {
   "cell_type": "code",
   "execution_count": 119,
   "metadata": {},
   "outputs": [
    {
     "data": {
      "text/plain": [
       "datetime.date(2024, 1, 5)"
      ]
     },
     "execution_count": 119,
     "metadata": {},
     "output_type": "execute_result"
    }
   ],
   "source": [
    "dd"
   ]
  }
 ],
 "metadata": {
  "kernelspec": {
   "display_name": "venv",
   "language": "python",
   "name": "python3"
  },
  "language_info": {
   "codemirror_mode": {
    "name": "ipython",
    "version": 3
   },
   "file_extension": ".py",
   "mimetype": "text/x-python",
   "name": "python",
   "nbconvert_exporter": "python",
   "pygments_lexer": "ipython3",
   "version": "3.11.7"
  }
 },
 "nbformat": 4,
 "nbformat_minor": 2
}
